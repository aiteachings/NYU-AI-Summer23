{
 "cells": [
  {
   "cell_type": "markdown",
   "id": "bdea7dd3",
   "metadata": {},
   "source": [
    "* * *\n",
    "<pre> NYU Paris            <i> Artificial intelligence - Fall 2022 </i></pre>\n",
    "* * *\n",
    "\n",
    "\n",
    "<h1 align=\"center\"> Lab 9: Clustering - Blind source separation (Part 2) </h1>\n",
    "\n",
    "<pre align=\"left\"> October 27th 2022               <i> Author: Hicham Janati </i></pre>\n",
    "* * *\n",
    "\n",
    "\n",
    "##### Goals:\n",
    "- Understand the power and limits of PCA and kernel-PCA and ICA\n",
    "- Understand the difference between correlation and statistical independence\n",
    "- Perform blind source separation on real world applications"
   ]
  },
  {
   "cell_type": "code",
   "execution_count": null,
   "id": "90d666c3",
   "metadata": {},
   "outputs": [],
   "source": [
    "import numpy as np\n",
    "from matplotlib import pyplot as plt\n",
    "from sklearn.decomposition import FastICA, PCA, KernelPCA\n",
    "\n",
    "sr = 22100"
   ]
  },
  {
   "cell_type": "markdown",
   "id": "0055616d",
   "metadata": {},
   "source": [
    "## Part II -  Blind source separation applied to neuroscience\n"
   ]
  },
  {
   "cell_type": "markdown",
   "id": "7411eba3",
   "metadata": {},
   "source": [
    "In the first part, we have manually combined the sources with a mixing matrix then tried to separate them. In part II, we are given real sensor data of 59 electromagnetic sensors around the head of an indivudal. Each sensor measures the signals of the electromagnetic field produced by electrical currents in the brain at multiple time points. These data are called Electro-encephalography / Magneto-encephalography (EEG/MEG) data."
   ]
  },
  {
   "cell_type": "code",
   "execution_count": null,
   "id": "b6519244",
   "metadata": {},
   "outputs": [],
   "source": [
    "import mne\n",
    "\n",
    "data_path = mne.datasets.sample.data_path()\n",
    "raw_fname = data_path / 'MEG' / 'sample' / 'sample_audvis_raw.fif'\n",
    "raw = mne.io.read_raw_fif(raw_fname, verbose=False)\n",
    "raw.crop(tmin=0, tmax=150, verbose=False)\n",
    "raw.pick_types(eeg=True, verbose=False)\n",
    "raw.load_data(verbose=False)\n",
    "raw.filter(l_freq=1., h_freq=None, verbose=False)\n",
    "X = raw.get_data(verbose=False)\n",
    "times = raw.times\n",
    "X.shape, times.shape"
   ]
  },
  {
   "cell_type": "markdown",
   "id": "3999831c",
   "metadata": {},
   "source": [
    "After the stimulus at t = 0ms, the `times` array contains the time coordinates in milliseconds of each sensor measurement. "
   ]
  },
  {
   "cell_type": "code",
   "execution_count": null,
   "id": "1d1b058f",
   "metadata": {},
   "outputs": [],
   "source": [
    "times"
   ]
  },
  {
   "cell_type": "markdown",
   "id": "4af941aa",
   "metadata": {},
   "source": [
    "### Question 1\n",
    "Visualize the raw time series produced by each sensor in a 59 x 1 plt.subplots figure. Use a large figsize to see them all. Use the times numpy array returned by get_neuro_data for the x axis coordinates."
   ]
  },
  {
   "cell_type": "code",
   "execution_count": null,
   "id": "3cfe68b4",
   "metadata": {},
   "outputs": [],
   "source": []
  },
  {
   "cell_type": "markdown",
   "id": "cb145981",
   "metadata": {},
   "source": [
    "### Question 2\n",
    "ICA is used by clinicians to process sensor (EEG/MEG) data and detect artifacts that are captured by the sensors but are not of neuroscientific interest such as heart beats, muscle movements and eye blinks.\n",
    "Run PCA and ICA on the data with varied number of components (5-15) and visualize the components. Do you notice any particular ones ?"
   ]
  },
  {
   "cell_type": "code",
   "execution_count": null,
   "id": "597834b1",
   "metadata": {},
   "outputs": [],
   "source": []
  },
  {
   "cell_type": "markdown",
   "id": "fed0369c",
   "metadata": {},
   "source": [
    "### Question 3\n"
   ]
  },
  {
   "cell_type": "markdown",
   "id": "6293dc94",
   "metadata": {},
   "source": [
    "The following function can visualize the component (i.e reconstructed source) in the original sensor. This data can be found in the attribute `components_` of the PCA/ICA object. Visualize the components in the original sensor space using the following function. "
   ]
  },
  {
   "cell_type": "code",
   "execution_count": null,
   "id": "be9f1ee5",
   "metadata": {},
   "outputs": [],
   "source": [
    "def plot_component_on_brain(component_data, component_number=0, ax=None):\n",
    "    show = False\n",
    "    if ax is None:\n",
    "        _, ax = plt.subplots(1, 1, figsize=(6, 6))\n",
    "        show = True\n",
    "    mne.viz.plot_topomap(ica_comp, raw.info, axes=ax, show=False)\n",
    "    ax.set_title(f\"ICA component {component_number}\")\n",
    "    if show:\n",
    "        plt.show()\n",
    "    return ax"
   ]
  },
  {
   "cell_type": "code",
   "execution_count": null,
   "id": "725d8963",
   "metadata": {},
   "outputs": [],
   "source": []
  },
  {
   "cell_type": "markdown",
   "id": "055b925e",
   "metadata": {},
   "source": [
    "### Question 4\n",
    "This data was collected on a subject who was exposed to an audio-visual stimulus at t=0. On average, humans react to such stimuli at least 100ms after the onset. Here, the onset is t=0ms.  \n",
    "\n",
    "Using ICA with 15 components, relying on both the temporal and the sensor visualizations, can you propose a plausible explanation for the source captured by some of the components ?"
   ]
  },
  {
   "cell_type": "code",
   "execution_count": null,
   "id": "bf9650f1",
   "metadata": {},
   "outputs": [],
   "source": []
  },
  {
   "cell_type": "markdown",
   "id": "b8cefeb5",
   "metadata": {},
   "source": [
    "### Question 5\n",
    "Repeat this analysis with PCA. What do you observe ?"
   ]
  },
  {
   "cell_type": "code",
   "execution_count": null,
   "id": "868481d5",
   "metadata": {},
   "outputs": [],
   "source": []
  },
  {
   "cell_type": "code",
   "execution_count": null,
   "id": "fd749823",
   "metadata": {},
   "outputs": [],
   "source": []
  }
 ],
 "metadata": {
  "kernelspec": {
   "display_name": "Python 3 (ipykernel)",
   "language": "python",
   "name": "python3"
  },
  "language_info": {
   "codemirror_mode": {
    "name": "ipython",
    "version": 3
   },
   "file_extension": ".py",
   "mimetype": "text/x-python",
   "name": "python",
   "nbconvert_exporter": "python",
   "pygments_lexer": "ipython3",
   "version": "3.9.1"
  }
 },
 "nbformat": 4,
 "nbformat_minor": 5
}
