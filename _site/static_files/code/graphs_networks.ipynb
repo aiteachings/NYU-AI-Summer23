{
 "cells": [
  {
   "cell_type": "markdown",
   "id": "bdea7dd3",
   "metadata": {},
   "source": [
    "* * *\n",
    "<pre> NYU Paris            <i> Artificial intelligence - Fall 2022 </i></pre>\n",
    "* * *\n",
    "\n",
    "\n",
    "<h1 align=\"center\"> Lab 11: Graphs and networks in machine learning  </h1>\n",
    "\n",
    "<pre align=\"left\"> November 10th 2022               <i> Author: Hicham Janati </i></pre>\n",
    "* * *\n",
    "\n"
   ]
  },
  {
   "cell_type": "markdown",
   "id": "0055616d",
   "metadata": {},
   "source": [
    "\n",
    "\n",
    "# Part I: Introduction to Networkx"
   ]
  },
  {
   "cell_type": "markdown",
   "id": "ebf7799e",
   "metadata": {},
   "source": [
    "Networks (or graphs) are a very powerful tool through which one can model relationships and structure data with a lot of flexibility. A graph is a collection of nodes (elements of some set) that may or may not be connected by an edge. The purpose of this first section is to get familiar with manipulating graphs using Networkx. We start with a simple examples of the parisian subway:\n",
    "![metro](img/metro.png)\n"
   ]
  },
  {
   "cell_type": "code",
   "execution_count": 4,
   "id": "af14e642",
   "metadata": {},
   "outputs": [],
   "source": [
    "%matplotlib inline\n",
    "import networkx as nx\n",
    "import numpy as np\n",
    "import matplotlib\n",
    "import matplotlib.pyplot as plt"
   ]
  },
  {
   "cell_type": "markdown",
   "id": "84487309",
   "metadata": {},
   "source": [
    "### Question 1\n",
    "Read and run the following code multiple times. What do you notice ?"
   ]
  },
  {
   "cell_type": "code",
   "execution_count": 2,
   "id": "a1b94cba",
   "metadata": {},
   "outputs": [
    {
     "data": {
      "image/png": "[encoded data removed]",
      "text/plain": [
       "<Figure size 432x288 with 1 Axes>"
      ]
     },
     "metadata": {},
     "output_type": "display_data"
    }
   ],
   "source": [
    "G = nx.Graph()\n",
    "\n",
    "G.add_edge(\"A\", \"B\", somedata=1)\n",
    "G.add_node(\"F\")\n",
    "G.add_edge(\"C\", \"A\", somedata=1)\n",
    "G.add_edge(\"E\", \"A\", somedata=10)\n",
    "G.add_edge(\"E\", \"B\", somedata=1)\n",
    "\n",
    "nx.draw_networkx(G)"
   ]
  },
  {
   "cell_type": "markdown",
   "id": "06b23586",
   "metadata": {},
   "source": [
    "### Question 2\n",
    "We can add any data to an edge by appending keywords like this:"
   ]
  },
  {
   "cell_type": "code",
   "execution_count": 3,
   "id": "f342f8aa",
   "metadata": {},
   "outputs": [
    {
     "data": {
      "image/png": "[encoded data removed]",
      "text/plain": [
       "<Figure size 432x288 with 1 Axes>"
      ]
     },
     "metadata": {},
     "output_type": "display_data"
    }
   ],
   "source": [
    "G.add_edge(\"F\", \"Z\", weight=15., somedata=403, someotherdata=\"somevalue\")\n",
    "G.add_edge(\"A\", \"B\", weight=10., somedata=300, someotherdata=\"someothervalue\")\n",
    "\n",
    "nx.draw_networkx(G)"
   ]
  },
  {
   "cell_type": "markdown",
   "id": "64f53ca2",
   "metadata": {},
   "source": [
    "This additional data can be obtained from the edge:"
   ]
  },
  {
   "cell_type": "code",
   "execution_count": 4,
   "id": "4d458724",
   "metadata": {},
   "outputs": [
    {
     "data": {
      "text/plain": [
       "{'weight': 15.0, 'somedata': 403, 'someotherdata': 'somevalue'}"
      ]
     },
     "execution_count": 4,
     "metadata": {},
     "output_type": "execute_result"
    }
   ],
   "source": [
    "G.get_edge_data(\"F\", \"Z\")"
   ]
  },
  {
   "cell_type": "markdown",
   "id": "338835b0",
   "metadata": {},
   "source": [
    "As well as for all the edges and a specific variable:"
   ]
  },
  {
   "cell_type": "code",
   "execution_count": 5,
   "id": "3973e3a0",
   "metadata": {},
   "outputs": [
    {
     "data": {
      "text/plain": [
       "{('A', 'B'): 300,\n",
       " ('A', 'C'): 1,\n",
       " ('A', 'E'): 10,\n",
       " ('B', 'E'): 1,\n",
       " ('F', 'Z'): 403}"
      ]
     },
     "execution_count": 5,
     "metadata": {},
     "output_type": "execute_result"
    }
   ],
   "source": [
    "nx.get_edge_attributes(G, \"somedata\")"
   ]
  },
  {
   "cell_type": "markdown",
   "id": "d72e393c",
   "metadata": {},
   "source": [
    "Create a graph `M` where the nodes are the stations in the image above (you can ignore Line 12 for the sake of simplicity). Add a `time` and `distance` variables for all edges using the time (mn) and distance (meters) conventions:\n",
    "- metro change: 1 | 100\n",
    "- metro-metro: 2 | 1500\n",
    "- RER-RER: 2 | 2000\n",
    "- RER change: 4 | 200\n"
   ]
  },
  {
   "cell_type": "code",
   "execution_count": null,
   "id": "c5619478",
   "metadata": {},
   "outputs": [],
   "source": []
  },
  {
   "cell_type": "markdown",
   "id": "7af05df9",
   "metadata": {},
   "source": [
    "### Question 3\n",
    "The function `nx.shortest_path` provides the list of nodes that constitute the shortest path between two given nodes:"
   ]
  },
  {
   "cell_type": "code",
   "execution_count": 6,
   "id": "09fbd246",
   "metadata": {},
   "outputs": [
    {
     "data": {
      "text/plain": [
       "['E', 'A', 'C']"
      ]
     },
     "execution_count": 6,
     "metadata": {},
     "output_type": "execute_result"
    }
   ],
   "source": [
    "nx.shortest_path(G, \"E\", \"C\")"
   ]
  },
  {
   "cell_type": "code",
   "execution_count": 7,
   "id": "e0c0e179",
   "metadata": {},
   "outputs": [
    {
     "data": {
      "text/plain": [
       "2"
      ]
     },
     "execution_count": 7,
     "metadata": {},
     "output_type": "execute_result"
    }
   ],
   "source": [
    "nx.shortest_path_length(G, \"E\", \"C\")"
   ]
  },
  {
   "cell_type": "markdown",
   "id": "b0d9ab66",
   "metadata": {},
   "source": [
    "Compute the shortest path (and its length) between \"Saint-Sulpice\" and \"Clunny\". Check the documentation of these functions to select the appropriate criterion. Is the shortest path in time and distance the same ?\n"
   ]
  },
  {
   "cell_type": "code",
   "execution_count": null,
   "id": "f44705ea",
   "metadata": {},
   "outputs": [],
   "source": []
  },
  {
   "cell_type": "markdown",
   "id": "4e3ba549",
   "metadata": {},
   "source": [
    "### Question 4\n",
    "To draw the graph with edge lengths respecting the given data, you need to first generate node positions using the data:"
   ]
  },
  {
   "cell_type": "code",
   "execution_count": 52,
   "id": "60c544ef",
   "metadata": {},
   "outputs": [
    {
     "data": {
      "image/png": "[encoded data removed]",
      "text/plain": [
       "<Figure size 432x288 with 1 Axes>"
      ]
     },
     "metadata": {},
     "output_type": "display_data"
    }
   ],
   "source": [
    "G = nx.Graph()\n",
    "\n",
    "G.add_edge(\"A\", \"B\", somedata=1)\n",
    "G.add_edge(\"A\", \"C\", somedata=50)\n",
    "\n",
    "positions = nx.spring_layout(G, weight=\"somedata\")\n",
    "nx.draw_networkx(G, positions)"
   ]
  },
  {
   "cell_type": "markdown",
   "id": "9770f4d1",
   "metadata": {},
   "source": [
    "Draw the metro graph with both criteria.  You can add edge labels (with your data attribute) using: `nx.draw_networkx_edge_labels` as shown below. Does the shortest path make sense visually ? Propose an idea to fix the counter-intuitive displayed labeling."
   ]
  },
  {
   "cell_type": "code",
   "execution_count": 79,
   "id": "8e5211ff",
   "metadata": {},
   "outputs": [
    {
     "data": {
      "image/png": "[encoded data removed]",
      "text/plain": [
       "<Figure size 432x288 with 1 Axes>"
      ]
     },
     "metadata": {},
     "output_type": "display_data"
    }
   ],
   "source": [
    "G = nx.Graph()\n",
    "\n",
    "G.add_edge(\"A\", \"B\", somedata=1)\n",
    "G.add_edge(\"A\", \"C\", somedata=50)\n",
    "\n",
    "\n",
    "positions = nx.spring_layout(G, weight=\"somedata\")\n",
    "\n",
    "edge_data = nx.get_edge_attributes(G, \"somedata\")\n",
    "nx.draw_networkx_edge_labels(G, positions, edge_data)\n",
    "nx.draw_networkx(G, positions)"
   ]
  },
  {
   "cell_type": "code",
   "execution_count": 77,
   "id": "f4e97f97",
   "metadata": {},
   "outputs": [
    {
     "data": {
      "text/plain": [
       "DegreeView({'A': 3, 'B': 3, 'C': 2, 'E': 2, 'F': 2, 'R': 2})"
      ]
     },
     "execution_count": 77,
     "metadata": {},
     "output_type": "execute_result"
    }
   ],
   "source": [
    "G.degree()"
   ]
  },
  {
   "cell_type": "code",
   "execution_count": null,
   "id": "db46c54d",
   "metadata": {},
   "outputs": [],
   "source": []
  },
  {
   "cell_type": "markdown",
   "id": "bb2fa986",
   "metadata": {},
   "source": [
    "# Part II: graph clustering\n",
    "\n",
    "We start by introducing two concepts:\n",
    "\n",
    "### A)  - Betweeness centrality\n",
    "The shortest path between nodes can be used to define the concept (quantity) of betweeness centrality of an edge. An edge has high _betweeness centrality_ if among all possible shortest paths between _all_ the nodes of the graph\n",
    "a large proportion includes it. Consider the case of a network with two islands linked by a bridge. The edge conssituting the bridge would be present in any shortest path between nodes from different islands:"
   ]
  },
  {
   "cell_type": "code",
   "execution_count": 93,
   "id": "16d18c18",
   "metadata": {},
   "outputs": [
    {
     "data": {
      "image/png": "[encoded data removed]",
      "text/plain": [
       "<Figure size 432x288 with 1 Axes>"
      ]
     },
     "metadata": {},
     "output_type": "display_data"
    }
   ],
   "source": [
    "G = nx.Graph()\n",
    "\n",
    "G.add_edge(\"A\", \"B\", somedata=10)\n",
    "G.add_edge(\"A\", \"C\", somedata=2)\n",
    "\n",
    "G.add_edge(\"A\", \"E\", somedata=3)\n",
    "G.add_edge(\"E\", \"C\", somedata=2)\n",
    "\n",
    "G.add_edge(\"B\", \"F\", somedata=3)\n",
    "G.add_edge(\"B\", \"R\", somedata=2)\n",
    "G.add_edge(\"F\", \"R\", somedata=2)\n",
    "\n",
    "positions = nx.spring_layout(G, weight=\"somedata\")\n",
    "\n",
    "edge_data = nx.get_edge_attributes(G, \"somedata\")\n",
    "nx.draw_networkx_edge_labels(G, positions, edge_data)\n",
    "nx.draw_networkx(G, positions)"
   ]
  },
  {
   "cell_type": "code",
   "execution_count": 91,
   "id": "3ab57c4b",
   "metadata": {},
   "outputs": [
    {
     "data": {
      "text/plain": [
       "{'A': 0.6000000000000001,\n",
       " 'B': 0.6000000000000001,\n",
       " 'C': 0.0,\n",
       " 'E': 0.4,\n",
       " 'F': 0.0,\n",
       " 'R': 0.0}"
      ]
     },
     "execution_count": 91,
     "metadata": {},
     "output_type": "execute_result"
    }
   ],
   "source": [
    "nx.betweenness_centrality(G, weight=\"somedata\")"
   ]
  },
  {
   "cell_type": "markdown",
   "id": "6fabbcaa",
   "metadata": {},
   "source": [
    "### B) - Node importance\n",
    "The importance (or degree) of a node can be defined as the total number of edges (weighted or not) it has. We can display nodes with size proportional to their importance. The argument `nodelist` can also be used to plot a subset of the graph."
   ]
  },
  {
   "cell_type": "code",
   "execution_count": 94,
   "id": "d11aa001",
   "metadata": {},
   "outputs": [
    {
     "data": {
      "image/png": "[encoded data removed]",
      "text/plain": [
       "<Figure size 432x288 with 1 Axes>"
      ]
     },
     "metadata": {},
     "output_type": "display_data"
    }
   ],
   "source": [
    "importance = dict(G.degree(weight=\"somedata\"))\n",
    "nodelist = list(importance.keys())\n",
    "sizes = 50 * np.array([importance[key] for key in nodelist])\n",
    "nx.draw_networkx_edge_labels(G, positions, edge_data)\n",
    "nx.draw_networkx(G, positions, nodelist=nodelist, node_size=sizes)"
   ]
  },
  {
   "cell_type": "markdown",
   "id": "f0a3256a",
   "metadata": {},
   "source": [
    " This notion can be used to `prune` a graph and detect communities. Starting from a graph, the Girvan Newman algorithm loops over all edges and removes the \"most important edge\" at each iteration until no edges are left. The obtained  result can be thought of as a \"tree\"."
   ]
  },
  {
   "cell_type": "markdown",
   "id": "afe2e2db",
   "metadata": {},
   "source": [
    "## Game of thrones communities"
   ]
  },
  {
   "cell_type": "markdown",
   "id": "59a4eaeb",
   "metadata": {},
   "source": [
    "You are now ready to apply this concepts to a real dataset consisting of interactions between Game of thrones characters. Two characters (nodes) interact if they are mentioned within 15 consecutive words in a GOT book."
   ]
  },
  {
   "cell_type": "code",
   "execution_count": 2,
   "id": "6f879fc4",
   "metadata": {},
   "outputs": [
    {
     "data": {
      "text/html": [
       "<div>\n",
       "<style scoped>\n",
       "    .dataframe tbody tr th:only-of-type {\n",
       "        vertical-align: middle;\n",
       "    }\n",
       "\n",
       "    .dataframe tbody tr th {\n",
       "        vertical-align: top;\n",
       "    }\n",
       "\n",
       "    .dataframe thead th {\n",
       "        text-align: right;\n",
       "    }\n",
       "</style>\n",
       "<table border=\"1\" class=\"dataframe\">\n",
       "  <thead>\n",
       "    <tr style=\"text-align: right;\">\n",
       "      <th></th>\n",
       "      <th>Source</th>\n",
       "      <th>Target</th>\n",
       "      <th>Type</th>\n",
       "      <th>weight</th>\n",
       "      <th>book</th>\n",
       "    </tr>\n",
       "  </thead>\n",
       "  <tbody>\n",
       "    <tr>\n",
       "      <th>0</th>\n",
       "      <td>Addam-Marbrand</td>\n",
       "      <td>Jaime-Lannister</td>\n",
       "      <td>Undirected</td>\n",
       "      <td>3</td>\n",
       "      <td>1</td>\n",
       "    </tr>\n",
       "    <tr>\n",
       "      <th>1</th>\n",
       "      <td>Addam-Marbrand</td>\n",
       "      <td>Tywin-Lannister</td>\n",
       "      <td>Undirected</td>\n",
       "      <td>6</td>\n",
       "      <td>1</td>\n",
       "    </tr>\n",
       "    <tr>\n",
       "      <th>2</th>\n",
       "      <td>Aegon-I-Targaryen</td>\n",
       "      <td>Daenerys-Targaryen</td>\n",
       "      <td>Undirected</td>\n",
       "      <td>5</td>\n",
       "      <td>1</td>\n",
       "    </tr>\n",
       "    <tr>\n",
       "      <th>3</th>\n",
       "      <td>Aegon-I-Targaryen</td>\n",
       "      <td>Eddard-Stark</td>\n",
       "      <td>Undirected</td>\n",
       "      <td>4</td>\n",
       "      <td>1</td>\n",
       "    </tr>\n",
       "    <tr>\n",
       "      <th>4</th>\n",
       "      <td>Aemon-Targaryen-(Maester-Aemon)</td>\n",
       "      <td>Alliser-Thorne</td>\n",
       "      <td>Undirected</td>\n",
       "      <td>4</td>\n",
       "      <td>1</td>\n",
       "    </tr>\n",
       "    <tr>\n",
       "      <th>...</th>\n",
       "      <td>...</td>\n",
       "      <td>...</td>\n",
       "      <td>...</td>\n",
       "      <td>...</td>\n",
       "      <td>...</td>\n",
       "    </tr>\n",
       "    <tr>\n",
       "      <th>679</th>\n",
       "      <td>Tyrion-Lannister</td>\n",
       "      <td>Willis-Wode</td>\n",
       "      <td>Undirected</td>\n",
       "      <td>4</td>\n",
       "      <td>1</td>\n",
       "    </tr>\n",
       "    <tr>\n",
       "      <th>680</th>\n",
       "      <td>Tyrion-Lannister</td>\n",
       "      <td>Yoren</td>\n",
       "      <td>Undirected</td>\n",
       "      <td>10</td>\n",
       "      <td>1</td>\n",
       "    </tr>\n",
       "    <tr>\n",
       "      <th>681</th>\n",
       "      <td>Tywin-Lannister</td>\n",
       "      <td>Varys</td>\n",
       "      <td>Undirected</td>\n",
       "      <td>4</td>\n",
       "      <td>1</td>\n",
       "    </tr>\n",
       "    <tr>\n",
       "      <th>682</th>\n",
       "      <td>Tywin-Lannister</td>\n",
       "      <td>Walder-Frey</td>\n",
       "      <td>Undirected</td>\n",
       "      <td>8</td>\n",
       "      <td>1</td>\n",
       "    </tr>\n",
       "    <tr>\n",
       "      <th>683</th>\n",
       "      <td>Waymar-Royce</td>\n",
       "      <td>Will-(prologue)</td>\n",
       "      <td>Undirected</td>\n",
       "      <td>18</td>\n",
       "      <td>1</td>\n",
       "    </tr>\n",
       "  </tbody>\n",
       "</table>\n",
       "<p>684 rows × 5 columns</p>\n",
       "</div>"
      ],
      "text/plain": [
       "                              Source              Target        Type  weight  \\\n",
       "0                     Addam-Marbrand     Jaime-Lannister  Undirected       3   \n",
       "1                     Addam-Marbrand     Tywin-Lannister  Undirected       6   \n",
       "2                  Aegon-I-Targaryen  Daenerys-Targaryen  Undirected       5   \n",
       "3                  Aegon-I-Targaryen        Eddard-Stark  Undirected       4   \n",
       "4    Aemon-Targaryen-(Maester-Aemon)      Alliser-Thorne  Undirected       4   \n",
       "..                               ...                 ...         ...     ...   \n",
       "679                 Tyrion-Lannister         Willis-Wode  Undirected       4   \n",
       "680                 Tyrion-Lannister               Yoren  Undirected      10   \n",
       "681                  Tywin-Lannister               Varys  Undirected       4   \n",
       "682                  Tywin-Lannister         Walder-Frey  Undirected       8   \n",
       "683                     Waymar-Royce     Will-(prologue)  Undirected      18   \n",
       "\n",
       "     book  \n",
       "0       1  \n",
       "1       1  \n",
       "2       1  \n",
       "3       1  \n",
       "4       1  \n",
       "..    ...  \n",
       "679     1  \n",
       "680     1  \n",
       "681     1  \n",
       "682     1  \n",
       "683     1  \n",
       "\n",
       "[684 rows x 5 columns]"
      ]
     },
     "execution_count": 2,
     "metadata": {},
     "output_type": "execute_result"
    }
   ],
   "source": [
    "import pandas as pd\n",
    "df = pd.read_csv(\"asoiaf/data/asoiaf-book1-edges.csv\")\n",
    "df"
   ]
  },
  {
   "cell_type": "code",
   "execution_count": 5,
   "id": "b511ff2c",
   "metadata": {},
   "outputs": [],
   "source": [
    "def got_graph(book_id):\n",
    "    df = pd.read_csv(f\"https://aiteachings.github.io/NYU-AI-Fall22/static_files/data/got/asoiaf-book{book_id}-edges.csv\")\n",
    "    graph = nx.from_pandas_edgelist(df, source='Source', target='Target', edge_attr=['weight'])\n",
    "    return df\n",
    "\n",
    "graph = got_graph(1)"
   ]
  },
  {
   "cell_type": "markdown",
   "id": "728964ac",
   "metadata": {},
   "source": [
    "We create a graph from this edges datasets:"
   ]
  },
  {
   "cell_type": "code",
   "execution_count": 137,
   "id": "acca208e",
   "metadata": {},
   "outputs": [],
   "source": []
  },
  {
   "cell_type": "markdown",
   "id": "bde59226",
   "metadata": {},
   "source": [
    "### Question 5:\n",
    "Find the top 10 important characters.\n",
    "\n",
    "_Tip: Find a smart way to sort a dictionary by looking up the extra args of `dict`_"
   ]
  },
  {
   "cell_type": "code",
   "execution_count": null,
   "id": "97820a7d",
   "metadata": {},
   "outputs": [],
   "source": []
  },
  {
   "cell_type": "markdown",
   "id": "edb0aa2f",
   "metadata": {},
   "source": [
    "### Question 6:\n",
    "Visualize the graph of the top 10 important characters.\n",
    "\n",
    "_Tip: Create a subgraph_."
   ]
  },
  {
   "cell_type": "code",
   "execution_count": null,
   "id": "da6dc18b",
   "metadata": {},
   "outputs": [],
   "source": []
  },
  {
   "cell_type": "markdown",
   "id": "1ce2642b",
   "metadata": {},
   "source": [
    "### Question 7\n",
    "Read the dataset of the five books. Does this top 10 evolve as expected from the series ?"
   ]
  },
  {
   "cell_type": "code",
   "execution_count": null,
   "id": "3568a4fa",
   "metadata": {},
   "outputs": [],
   "source": []
  },
  {
   "cell_type": "markdown",
   "id": "da02f7cb",
   "metadata": {},
   "source": [
    "### Question 8\n",
    "Repeat question 6-7 but for the betweeness-centrality score. Does it make sense to use `weight` here ?"
   ]
  },
  {
   "cell_type": "code",
   "execution_count": null,
   "id": "45728d5f",
   "metadata": {},
   "outputs": [],
   "source": []
  },
  {
   "cell_type": "markdown",
   "id": "96a50c82",
   "metadata": {},
   "source": [
    "### Question 9\n",
    "Run the girvan newman algorithm and visualize the graph of each community (top 5 important characters of each community). Do the communities make sense from a story perspective ?"
   ]
  },
  {
   "cell_type": "code",
   "execution_count": 6,
   "id": "4ebf2eb8",
   "metadata": {},
   "outputs": [],
   "source": [
    "from networkx.algorithms.community.centrality import girvan_newman"
   ]
  },
  {
   "cell_type": "code",
   "execution_count": null,
   "id": "ec446c12",
   "metadata": {},
   "outputs": [],
   "source": []
  }
 ],
 "metadata": {
  "kernelspec": {
   "display_name": "Python 3 (ipykernel)",
   "language": "python",
   "name": "python3"
  },
  "language_info": {
   "codemirror_mode": {
    "name": "ipython",
    "version": 3
   },
   "file_extension": ".py",
   "mimetype": "text/x-python",
   "name": "python",
   "nbconvert_exporter": "python",
   "pygments_lexer": "ipython3",
   "version": "3.9.1"
  }
 },
 "nbformat": 4,
 "nbformat_minor": 5
}
