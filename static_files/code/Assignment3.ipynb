{
 "cells": [
  {
   "cell_type": "markdown",
   "id": "bdea7dd3",
   "metadata": {},
   "source": [
    "* * *\n",
    "<pre> NYU Paris            <i> Artificial intelligence - Fall 2022 </i></pre>\n",
    "* * *\n",
    "\n",
    "\n",
    "<h1 align=\"center\"> Lab 9: Clustering - Blind source separation </h1>\n",
    "\n",
    "<pre align=\"left\"> October 27th 2022               <i> Author: Hicham Janati </i></pre>\n",
    "* * *\n",
    "\n",
    "\n",
    "##### Goals:\n",
    "- Understand the power and limits of PCA and kernel-PCA and ICA\n",
    "- Understand the difference between correlation and statistical independence\n",
    "- Perform blind source separation on real world applications"
   ]
  },
  {
   "cell_type": "code",
   "execution_count": 5,
   "id": "f129f02a",
   "metadata": {},
   "outputs": [],
   "source": [
    "import librosa, IPython\n",
    "import numpy as np\n",
    "from matplotlib import pyplot as plt\n",
    "from sklearn.decomposition import FastICA, PCA, KernelPCA\n",
    "\n",
    "sr = 22100\n"
   ]
  },
  {
   "cell_type": "markdown",
   "id": "0055616d",
   "metadata": {},
   "source": [
    "## Part 1 - Mixing sources \n"
   ]
  },
  {
   "cell_type": "markdown",
   "id": "612e99a0",
   "metadata": {},
   "source": [
    "The following function creates two arrays of two music sources. Read and listen to them."
   ]
  },
  {
   "cell_type": "code",
   "execution_count": 54,
   "id": "607f3951",
   "metadata": {},
   "outputs": [],
   "source": [
    "def get_music_sources():\n",
    "    dimension = 40000\n",
    "    melody, sr = librosa.load(f\"audio/melody.wav\", mono=True, duration=6, sr=sr)\n",
    "    laugh, sr = librosa.load(f\"audio/laugh.wav\", mono=True, duration=6, sr=sr)\n",
    "\n",
    "    melody = melody[:dimension]\n",
    "    laugh = laugh[:dimension]\n",
    "    return melody, laugh\n"
   ]
  },
  {
   "cell_type": "markdown",
   "id": "8f1612fb",
   "metadata": {},
   "source": [
    "### Question 1\n",
    "Giving N different measures X of N different sources S, blind source separation refers to the operation of\n",
    "unmixing the measures to obtain the original sources. The matrix A (N x N) is called the mixing matrix.\n",
    "\n",
    "$$ X = A S $$\n",
    "\n",
    "With our 2 sources, the matrix A is square (2 x 2).\n",
    "\n",
    "Imagine 2 sensors positioned at two different locations, each is near one of the sources. Propose a mixing matrix A that mixes the sources by a proportional weighted average."
   ]
  },
  {
   "cell_type": "code",
   "execution_count": 21,
   "id": "20e3fa95",
   "metadata": {},
   "outputs": [
    {
     "data": {
      "text/plain": [
       "(3, 40000)"
      ]
     },
     "execution_count": 21,
     "metadata": {},
     "output_type": "execute_result"
    }
   ],
   "source": [
    "def get_mixing_matrix():\n",
    "    \n",
    "    return A"
   ]
  },
  {
   "cell_type": "markdown",
   "id": "b40f1d92",
   "metadata": {},
   "source": [
    "\n",
    "### Question 2\n",
    "\n",
    "Mix the two sources above to obtain a matrix X. Listen to both measures of the matrix X. Does the mixing make sense ?"
   ]
  },
  {
   "cell_type": "code",
   "execution_count": null,
   "id": "46422d95",
   "metadata": {},
   "outputs": [],
   "source": []
  },
  {
   "cell_type": "markdown",
   "id": "6b92546c",
   "metadata": {},
   "source": [
    "### Question 3\n",
    "Write a function that performs PCA, KernelPCA or ICA with a given string keyword. "
   ]
  },
  {
   "cell_type": "code",
   "execution_count": 8,
   "id": "7377c917",
   "metadata": {},
   "outputs": [
    {
     "data": {
      "text/plain": [
       "(3, 40000)"
      ]
     },
     "execution_count": 8,
     "metadata": {},
     "output_type": "execute_result"
    }
   ],
   "source": [
    "def blind_source_separation(X, ):\n",
    "    \n",
    "    return sources"
   ]
  },
  {
   "cell_type": "markdown",
   "id": "044be72a",
   "metadata": {},
   "source": [
    "### Question 4\n",
    "Compare the performance of each method both quantivately and qualitatively. \n",
    "\n",
    "Hint: reduce the number of time points for kernel PCA if it takes too long."
   ]
  },
  {
   "cell_type": "code",
   "execution_count": null,
   "id": "f0c78b7b",
   "metadata": {},
   "outputs": [],
   "source": []
  },
  {
   "cell_type": "markdown",
   "id": "942c22e7",
   "metadata": {},
   "source": [
    "### Question 5\n",
    "Write a general function that compares the reconstruction accuracy comparing the original sources to the ones found."
   ]
  },
  {
   "cell_type": "code",
   "execution_count": null,
   "id": "30ac7999",
   "metadata": {},
   "outputs": [],
   "source": []
  },
  {
   "cell_type": "markdown",
   "id": "91831d47",
   "metadata": {},
   "source": [
    "### Question 6\n",
    "To make things more interesting, add a third source that is pure noise. Tune the amount of noise so that we can still hear the other sources. "
   ]
  },
  {
   "cell_type": "code",
   "execution_count": 9,
   "id": "740fd6c8",
   "metadata": {},
   "outputs": [],
   "source": []
  },
  {
   "cell_type": "markdown",
   "id": "37c27426",
   "metadata": {},
   "source": [
    "### Question 7 \n",
    "Modify the mixing matrix (which is now 3 x 3) function so that it is adapted to 3 sources. Do the 3 measures correspond to what you expected ?"
   ]
  },
  {
   "cell_type": "code",
   "execution_count": null,
   "id": "c55e6ef1",
   "metadata": {},
   "outputs": [],
   "source": []
  },
  {
   "cell_type": "markdown",
   "id": "ef04af07",
   "metadata": {},
   "source": [
    "### Question 8\n",
    "Repeat question 4 with these sources. How does ICA Perform ?"
   ]
  },
  {
   "cell_type": "code",
   "execution_count": null,
   "id": "b6519244",
   "metadata": {},
   "outputs": [],
   "source": []
  },
  {
   "cell_type": "markdown",
   "id": "3cb46e3e",
   "metadata": {},
   "source": [
    "### Question 9\n",
    "Using your score function, tune the kernel scale parameter of KernelPCA. Does it improve the performance ?"
   ]
  },
  {
   "cell_type": "markdown",
   "id": "cb145981",
   "metadata": {},
   "source": [
    "### Part II: ICA for brain imaging  (Separate notebook)"
   ]
  },
  {
   "cell_type": "code",
   "execution_count": null,
   "id": "23403588",
   "metadata": {},
   "outputs": [],
   "source": []
  }
 ],
 "metadata": {
  "kernelspec": {
   "display_name": "Python 3 (ipykernel)",
   "language": "python",
   "name": "python3"
  },
  "language_info": {
   "codemirror_mode": {
    "name": "ipython",
    "version": 3
   },
   "file_extension": ".py",
   "mimetype": "text/x-python",
   "name": "python",
   "nbconvert_exporter": "python",
   "pygments_lexer": "ipython3",
   "version": "3.9.1"
  }
 },
 "nbformat": 4,
 "nbformat_minor": 5
}
