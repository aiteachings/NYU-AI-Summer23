{
 "cells": [
  {
   "cell_type": "markdown",
   "id": "bdea7dd3",
   "metadata": {},
   "source": [
    "* * *\n",
    "<pre> NYU Paris            <i> Artificial intelligence - Fall 2022 </i></pre>\n",
    "* * *\n",
    "\n",
    "\n",
    "<h1 align=\"center\"> Lab 1: Introduction to scikit-learn </h1>\n",
    "\n",
    "<pre align=\"left\"> September 8th 2022               <i> Author: Hicham Janati </i></pre>\n",
    "* * *\n",
    "\n",
    "\n",
    "##### Goals:\n",
    "- Have a working Python / Jupyter environment with packages installed\n",
    "- Get your hands dirty: read and manipulate data as `Numpy` arrays / `Pandas` dataframes\n",
    "- Know where to look for information: external resources & documentation\n",
    "- Be familiar with Scikit-learn's API (_fit_, _transform_, _predict_ methods)"
   ]
  },
  {
   "cell_type": "markdown",
   "id": "503e0e14",
   "metadata": {},
   "source": [
    "### 1 - Installation \n",
    "1. Anaconda is a large Python distribution software that includes  several Python packages and tools and simplifies their management. If you do not have it installed on your laptop go over to <a href=https://docs.anaconda.com/anaconda/install/>the official documentation</a> and follow the OS dependent installation guidelines.\n",
    "2. Create a folder for the labs of this course. For me, this path is `/Users/hichamjanati/Documents/work/teaching/NYU/code`\n",
    "3. Now we need to launch Jupyter from this folder. To do so, open the Anaconda Terminal (Anaconda Prompt). A command line window should pop up. If you are not familiar with line commands, for our purposes all you need to know is:\n",
    "* Know what folder your terminal is in: `pwd` (print working directory) for Linux/Mac | `cd` for windows.\n",
    "* List the content of the current folder: `ls` for Linux/Mac | `dir` for Windows.\n",
    "* Change the current folder: `cd` followed by the subfolder you want to access.\n",
    "\n",
    "![terminal](img/terminal.png)"
   ]
  },
  {
   "cell_type": "code",
   "execution_count": 5,
   "id": "506679c1",
   "metadata": {},
   "outputs": [
    {
     "name": "stdout",
     "output_type": "stream",
     "text": [
      "/Users/hichamjanati/Documents/work/teaching/aiteachings/NYU-AI-Fall22/static_files/code\r\n"
     ]
    }
   ],
   "source": [
    "!pwd"
   ]
  },
  {
   "cell_type": "markdown",
   "id": "0055616d",
   "metadata": {},
   "source": [
    "### 2 - Getting started: reading and visualizing data \n"
   ]
  },
  {
   "cell_type": "markdown",
   "id": "9bdbadd2",
   "metadata": {},
   "source": [
    "First we download data "
   ]
  },
  {
   "cell_type": "code",
   "execution_count": 3,
   "id": "bc310233",
   "metadata": {},
   "outputs": [],
   "source": [
    "import numpy as np"
   ]
  },
  {
   "cell_type": "markdown",
   "id": "bfde8435",
   "metadata": {},
   "source": []
  }
 ],
 "metadata": {
  "kernelspec": {
   "display_name": "Python 3 (ipykernel)",
   "language": "python",
   "name": "python3"
  },
  "language_info": {
   "codemirror_mode": {
    "name": "ipython",
    "version": 3
   },
   "file_extension": ".py",
   "mimetype": "text/x-python",
   "name": "python",
   "nbconvert_exporter": "python",
   "pygments_lexer": "ipython3",
   "version": "3.9.1"
  }
 },
 "nbformat": 4,
 "nbformat_minor": 5
}
